{
 "cells": [
  {
   "cell_type": "markdown",
   "metadata": {},
   "source": [
    "# Reporting on sales data\n",
    "\n",
    "Now let's now move on to the competition and challenge.\n",
    "\n",
    "## 📖 Background\n",
    "You work in the accounting department of a company that sells motorcycle parts. The company operates three warehouses in a large metropolitan area.\n",
    "\n",
    "You’ve recently learned data manipulation and plotting, and suggest helping your colleague analyze past sales data. Your colleague wants to capture sales by payment method. She also needs to know the average unit price for each product line."
   ]
  },
  {
   "cell_type": "markdown",
   "metadata": {},
   "source": [
    "## 💾 The data\n",
    "\n",
    "#### The sales data has the following fields:\n",
    "- \"date\" - The date, from June to August 2021.\n",
    "- \"warehouse\" - The company operates three warehouses: North, Central, and West.\n",
    "- \"client_type\" - There are two types of customers: Retail and Wholesale.\n",
    "- \"product_line\" - Type of products purchased.\n",
    "- \"quantity\" - How many items were purchased.\n",
    "- \"unit_price\" - Price per item sold.\n",
    "- \"total\" - Total sale = quantity * unit_price.\n",
    "- \"payment\" - How the client paid: Cash, Credit card, Transfer."
   ]
  },
  {
   "cell_type": "code",
   "execution_count": 152,
   "metadata": {},
   "outputs": [],
   "source": [
    "# import dependencies\n",
    "import pandas as pd\n",
    "import datetime as datetime\n",
    "from datetime import datetime\n",
    "\n",
    "# loading the data into a dataframe\n",
    "Sales_DF = pd.read_csv('Resources\\Sales_Data.csv')\n",
    "\n",
    "Sales_DF.head()\n",
    "\n",
    "# Converting str in \"date\" into datetime\n",
    "Sales_DF['date'] = pd.to_datetime(Sales_DF['date'] , format = \"%Y-%m-%d\")\n"
   ]
  },
  {
   "cell_type": "markdown",
   "metadata": {},
   "source": [
    "## 💪 Challenge / Scope\n",
    "Create a report to answer your colleague's questions. Include:\n",
    "\n",
    "1. What are the total sales for each payment method?\n",
    "2. What is the average unit price for each product line?\n",
    "3. Create plots to visualize findings for questions 1 and 2.\n",
    "4. [Optional] Investigate further (e.g., average purchase value by client type, total purchase value by product line, etc.)\n",
    "5. Summarize your findings."
   ]
  },
  {
   "cell_type": "markdown",
   "metadata": {},
   "source": [
    "## ✅ Checklist before publishing\n",
    "- Rename your workspace to make it descriptive of your work. N.B. you should leave the notebook name as notebook.ipynb.\n",
    "- Remove redundant cells like the introduction to data science notebooks, so the workbook is focused on your story.\n",
    "- Check that all the cells run without error."
   ]
  },
  {
   "cell_type": "markdown",
   "metadata": {},
   "source": [
    "### Data Cleaning and preparation\n",
    "\n"
   ]
  },
  {
   "cell_type": "code",
   "execution_count": 153,
   "metadata": {},
   "outputs": [
    {
     "data": {
      "text/plain": [
       "(1000, 8)"
      ]
     },
     "execution_count": 153,
     "metadata": {},
     "output_type": "execute_result"
    }
   ],
   "source": [
    "# Looking for missing values in the dataset\n",
    "Sales_DF.count() # 1000 records present in each column\n",
    "\n",
    "# Looking for duplicate records\n",
    "Sales_DF.drop_duplicates(inplace=True)\n",
    "\n",
    "Sales_DF.shape # looks like no duplicate records are present\n",
    "\n",
    "# Converting the strings in \"date\" to datetime format"
   ]
  },
  {
   "cell_type": "markdown",
   "metadata": {},
   "source": [
    "### Sales by Payment Method"
   ]
  },
  {
   "cell_type": "code",
   "execution_count": 154,
   "metadata": {},
   "outputs": [],
   "source": [
    "# Group the sales by payment method\n",
    "Payment_group = Sales_DF.groupby(['payment'])\n",
    "\n",
    "# Sum all of the sales by payment type\n",
    "Sales_By_Payment = Payment_group['total'].sum()\n",
    "\n",
    "# Converting into values relative to the total number of sales\n",
    "Prct_Sales = (Sales_By_Payment / Sales_By_Payment.sum()) * 100"
   ]
  },
  {
   "cell_type": "code",
   "execution_count": 155,
   "metadata": {},
   "outputs": [
    {
     "data": {
      "text/plain": [
       "<AxesSubplot:title={'center':'Sales By Payment Type'}, ylabel='Total Sales'>"
      ]
     },
     "execution_count": 155,
     "metadata": {},
     "output_type": "execute_result"
    },
    {
     "data": {
      "image/png": "[encoded data removed]",
      "text/plain": [
       "<Figure size 360x360 with 1 Axes>"
      ]
     },
     "metadata": {},
     "output_type": "display_data"
    }
   ],
   "source": [
    "# Plotting the total sales by payment using a pie chart\n",
    "Prct_Sales.plot.pie(title = 'Sales By Payment Type' , figsize = (5,5) , ylabel = 'Total Sales')"
   ]
  },
  {
   "cell_type": "markdown",
   "metadata": {},
   "source": [
    "### Insights\n",
    "* Tha majority of sales were completed using transfers\n",
    "* Cash was the payment type used the least"
   ]
  },
  {
   "cell_type": "markdown",
   "metadata": {},
   "source": [
    "### Average Price per Product Line"
   ]
  },
  {
   "cell_type": "code",
   "execution_count": 156,
   "metadata": {},
   "outputs": [
    {
     "name": "stdout",
     "output_type": "stream",
     "text": [
      "6\n",
      "product_line\n",
      "Breaking system          17.740522\n",
      "Electrical system        25.585130\n",
      "Engine                   60.091803\n",
      "Frame & body             42.832229\n",
      "Miscellaneous            22.810738\n",
      "Suspension & traction    33.969868\n",
      "Name: unit_price, dtype: float64\n"
     ]
    }
   ],
   "source": [
    "#There are six unique product lines in this database\n",
    "print(len(Sales_DF['product_line'].unique()))\n",
    "\n",
    "# Group by product line\n",
    "Product = Sales_DF.groupby(['product_line'])\n",
    "\n",
    "# Computing the mean unit price per product line\n",
    "avg_unit_price = Product['unit_price'].mean()\n",
    "print(avg_unit_price)"
   ]
  },
  {
   "cell_type": "code",
   "execution_count": 157,
   "metadata": {},
   "outputs": [
    {
     "data": {
      "text/plain": [
       "<AxesSubplot:title={'center':'Average unit price by Product Line'}, xlabel='Product Line', ylabel='Price'>"
      ]
     },
     "execution_count": 157,
     "metadata": {},
     "output_type": "execute_result"
    },
    {
     "data": {
      "image/png": "[encoded data removed]",
      "text/plain": [
       "<Figure size 432x288 with 1 Axes>"
      ]
     },
     "metadata": {
      "needs_background": "light"
     },
     "output_type": "display_data"
    }
   ],
   "source": [
    "# Plotting the average price using a bar chart\n",
    "avg_unit_price.plot.bar(title = 'Average unit price by Product Line' , color = ['orange', 'red' , 'green' , 'black' , 'blue' , 'purple']\n",
    ", xlabel = 'Product Line' , ylabel = 'Price')"
   ]
  },
  {
   "cell_type": "markdown",
   "metadata": {},
   "source": [
    "### Insights\n",
    "* The Product line with the highest average unit price is the engine\n",
    "* The product line with the smallest cost per unit are products belonging to the breaking system"
   ]
  },
  {
   "cell_type": "markdown",
   "metadata": {},
   "source": [
    "### Total Sales by Warehouse Location"
   ]
  },
  {
   "cell_type": "code",
   "execution_count": 158,
   "metadata": {},
   "outputs": [
    {
     "data": {
      "text/plain": [
       "<AxesSubplot:title={'center':'Total Sales Per Warehouse'}, ylabel='total'>"
      ]
     },
     "execution_count": 158,
     "metadata": {},
     "output_type": "execute_result"
    },
    {
     "data": {
      "image/png": "[encoded data removed]",
      "text/plain": [
       "<Figure size 432x288 with 1 Axes>"
      ]
     },
     "metadata": {},
     "output_type": "display_data"
    }
   ],
   "source": [
    "# Group the dataframe by warehouse location\n",
    "Sales_By_Warehouse = Sales_DF.groupby(['warehouse'])\n",
    "\n",
    "# summing the sales by warehouse location\n",
    "Warehouse_Total = Sales_By_Warehouse['total'].sum()\n",
    "\n",
    "# Representing data as pie chart\n",
    "Warehouse_Total.plot.pie(title = 'Total Sales Per Warehouse')\n"
   ]
  },
  {
   "cell_type": "markdown",
   "metadata": {},
   "source": [
    "### Insights\n",
    "* The Central region contains the bulk of the sales in this datasest\n",
    "* The regions supported by the West warehouse show the weakest sales\n",
    "* Analysis on the sales in the regions supported by the West warehouse may reveal why performance is poor"
   ]
  },
  {
   "cell_type": "markdown",
   "metadata": {},
   "source": [
    "### Patterns in Western Sales\n",
    "Because the region supported by the West warehouse saw the smallest total sales we will investigate to see if there are any patterns that can explain why."
   ]
  },
  {
   "cell_type": "code",
   "execution_count": 181,
   "metadata": {},
   "outputs": [
    {
     "name": "stderr",
     "output_type": "stream",
     "text": [
      "<ipython-input-181-ab91acf66395>:6: SettingWithCopyWarning: \n",
      "A value is trying to be set on a copy of a slice from a DataFrame.\n",
      "Try using .loc[row_indexer,col_indexer] = value instead\n",
      "\n",
      "See the caveats in the documentation: https://pandas.pydata.org/pandas-docs/stable/user_guide/indexing.html#returning-a-view-versus-a-copy\n",
      "  Western_Sales['month'] = pd.cut(Western_Sales.date.dt.month , 3 , labels = ['Jun' , 'Jul' , 'August'])\n"
     ]
    },
    {
     "data": {
      "text/plain": [
       "<AxesSubplot:title={'center':'Sales By Month (West)'}, xlabel='month', ylabel='Total Sales (USD$)'>"
      ]
     },
     "execution_count": 181,
     "metadata": {},
     "output_type": "execute_result"
    },
    {
     "data": {
      "image/png": "[encoded data removed]",
      "text/plain": [
       "<Figure size 432x288 with 1 Axes>"
      ]
     },
     "metadata": {
      "needs_background": "light"
     },
     "output_type": "display_data"
    }
   ],
   "source": [
    "# Time series of Western Sale Data\n",
    "# Filter out records by sales made in the western region\n",
    "Western_Sales = Sales_DF[Sales_DF['warehouse'] == 'West']\n",
    "\n",
    "# Bin dates by month\n",
    "Western_Sales['month'] = pd.cut(Western_Sales.date.dt.month , 3 , labels = ['Jun' , 'Jul' , 'August'])\n",
    "\n",
    "# compute total sales per month\n",
    "Western_Sales_Monthly = Western_Sales.groupby(['month'])['total'].sum()\n",
    "\n",
    "Western_Sales_Monthly.plot.line(title = 'Sales By Month (West)' , ylabel = 'Total Sales (USD$)', legend = True)"
   ]
  },
  {
   "cell_type": "code",
   "execution_count": 204,
   "metadata": {},
   "outputs": [
    {
     "name": "stdout",
     "output_type": "stream",
     "text": [
      "-0.32329299910760834\n",
      "Sales dropped by-32.33% between June and August\n"
     ]
    }
   ],
   "source": [
    "import numpy as np\n",
    "# Computing some metrics\n",
    "pct_decline = (Western_Sales_Monthly[2] - Western_Sales_Monthly[0]) / (np.average(Western_Sales_Monthly[[0,2]]))\n",
    "\n",
    "print(pct_decline)\n",
    "print(\"Sales dropped by\" +  \"{:.2%}\".format(pct_decline) + \" between June and August\")"
   ]
  },
  {
   "cell_type": "markdown",
   "metadata": {},
   "source": [
    "### Insights\n",
    "* There was a 32% decreases in sales during the 3 month periods\n",
    "* Was this a normal phenomenon across the other regions , or could there be some event specific to the west around these months that could explain weak sales?"
   ]
  },
  {
   "cell_type": "code",
   "execution_count": 246,
   "metadata": {},
   "outputs": [
    {
     "name": "stderr",
     "output_type": "stream",
     "text": [
      "<ipython-input-246-5e31ae1a1886>:15: SettingWithCopyWarning: \n",
      "A value is trying to be set on a copy of a slice from a DataFrame.\n",
      "Try using .loc[row_indexer,col_indexer] = value instead\n",
      "\n",
      "See the caveats in the documentation: https://pandas.pydata.org/pandas-docs/stable/user_guide/indexing.html#returning-a-view-versus-a-copy\n",
      "  regions['month'] = pd.cut(regions.date.dt.month , 3 , labels=['Jun' , 'Jul' , 'Aug'])\n"
     ]
    }
   ],
   "source": [
    "# Collect region specific dataframes within a list\n",
    "regions_list = ['Central' , 'North' , 'West']\n",
    "Regional_Sales = [] # initializing list\n",
    "\n",
    "# Split original data by region\n",
    "for regions in regions_list:\n",
    "    region_df = Sales_DF[Sales_DF['warehouse'] == regions]\n",
    "    Regional_Sales.append(region_df)\n",
    "\n",
    "# {0: Central , 1: North , 2: West}\n",
    "\n",
    "# Bin the dates by month for each dataframe\n",
    "for regions in Regional_Sales:\n",
    "\n",
    "    regions['month'] = pd.cut(regions.date.dt.month , 3 , labels=['Jun' , 'Jul' , 'Aug'])\n",
    "\n",
    "\n",
    "monthly_totals = []\n",
    "\n",
    "for region in Regional_Sales:\n",
    "    monthly_totals.append(region.groupby(['month']).total.sum())\n",
    "    \n",
    "\n"
   ]
  },
  {
   "cell_type": "code",
   "execution_count": 274,
   "metadata": {},
   "outputs": [
    {
     "name": "stderr",
     "output_type": "stream",
     "text": [
      "C:\\Users\\daypa\\Anaconda3\\lib\\site-packages\\matplotlib\\axes\\_base.py:405: FutureWarning: Support for multi-dimensional indexing (e.g. `obj[:, None]`) is deprecated and will be removed in a future version.  Convert to a numpy array before indexing instead.\n",
      "  x = x[:, np.newaxis]\n"
     ]
    },
    {
     "data": {
      "image/png": "[encoded data removed]",
      "text/plain": [
       "<Figure size 432x288 with 1 Axes>"
      ]
     },
     "metadata": {
      "needs_background": "light"
     },
     "output_type": "display_data"
    }
   ],
   "source": [
    "import matplotlib.pyplot as plt\n",
    "# create a line plot for each region\n",
    "fig = plt.figure()\n",
    "for region in monthly_totals:\n",
    "    line = plt.plot(region , label = 'label')\n",
    "    plt.legend(handles = line)\n",
    "    \n"
   ]
  },
  {
   "cell_type": "code",
   "execution_count": 270,
   "metadata": {},
   "outputs": [
    {
     "data": {
      "text/plain": [
       "<function list.index(value, start=0, stop=9223372036854775807, /)>"
      ]
     },
     "execution_count": 270,
     "metadata": {},
     "output_type": "execute_result"
    }
   ],
   "source": []
  },
  {
   "cell_type": "code",
   "execution_count": null,
   "metadata": {},
   "outputs": [],
   "source": []
  }
 ],
 "metadata": {
  "interpreter": {
   "hash": "1f61ff51b365b6fb2c14cce9a7b99068f7a2d9ab082ba55f2d8a4c0cff92da04"
  },
  "kernelspec": {
   "display_name": "Python 3.8.8 64-bit ('base': conda)",
   "language": "python",
   "name": "python3"
  },
  "language_info": {
   "codemirror_mode": {
    "name": "ipython",
    "version": 3
   },
   "file_extension": ".py",
   "mimetype": "text/x-python",
   "name": "python",
   "nbconvert_exporter": "python",
   "pygments_lexer": "ipython3",
   "version": "3.8.8"
  },
  "orig_nbformat": 4
 },
 "nbformat": 4,
 "nbformat_minor": 2
}
